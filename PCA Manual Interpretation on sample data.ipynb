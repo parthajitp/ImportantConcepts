{
 "cells": [
  {
   "cell_type": "markdown",
   "id": "0d33f71a",
   "metadata": {},
   "source": [
    "## All about PCA "
   ]
  },
  {
   "cell_type": "markdown",
   "id": "417793ce",
   "metadata": {},
   "source": [
    "PCA - It is used to reduce high-dimensional vector to lower dimension with the help of Eigen vectors and Eigen Values. An explanation from ChatGPT is as follows -\n",
    "\n",
    "The idea behind PCA is to identify a set of new variables, called principal components, that are linear combinations of the original features, and which capture most of the variance in the data. The principal components are ordered in such a way that the first component captures the most variance, the second component captures the second most variance, and so on. By selecting only the top k principal components, where k is a smaller number than the original number of features, we can represent the data in a lower-dimensional space while still retaining most of the information."
   ]
  },
  {
   "cell_type": "code",
   "execution_count": 1,
   "id": "08e0278e",
   "metadata": {},
   "outputs": [],
   "source": [
    "# Import libraries\n",
    "import numpy as np"
   ]
  },
  {
   "cell_type": "code",
   "execution_count": 2,
   "id": "96366b6d",
   "metadata": {},
   "outputs": [],
   "source": [
    "# Lets build Dummy data having high dimensions\n",
    "data = np.random.rand(100,50)"
   ]
  },
  {
   "cell_type": "code",
   "execution_count": 63,
   "id": "632e159d",
   "metadata": {},
   "outputs": [
    {
     "name": "stdout",
     "output_type": "stream",
     "text": [
      "[[0.51211109 0.84061583 0.27782804 ... 0.76590516 0.30770805 0.98221368]\n",
      " [0.53030138 0.53324388 0.11714409 ... 0.91881651 0.73258078 0.33685239]\n",
      " [0.16501592 0.96707466 0.428436   ... 0.53440471 0.29381953 0.13234198]\n",
      " ...\n",
      " [0.71400756 0.85594975 0.14091552 ... 0.42576469 0.50605266 0.66669827]\n",
      " [0.87188671 0.87728914 0.70617221 ... 0.93724362 0.85995841 0.11533538]\n",
      " [0.31704343 0.93906419 0.60993351 ... 0.53253049 0.2712701  0.56971888]]\n"
     ]
    }
   ],
   "source": [
    "print(data)"
   ]
  },
  {
   "cell_type": "code",
   "execution_count": 4,
   "id": "08a3f98c",
   "metadata": {},
   "outputs": [
    {
     "data": {
      "text/plain": [
       "(100, 50)"
      ]
     },
     "execution_count": 4,
     "metadata": {},
     "output_type": "execute_result"
    }
   ],
   "source": [
    "# Here data has a shape of 100 rows and 50 columns. \n",
    "data.shape"
   ]
  },
  {
   "cell_type": "markdown",
   "id": "158f8561",
   "metadata": {},
   "source": [
    "We will try to build a covariance matrix out of it after standardizing it. We will find the mean and standard deviation of each column and then use it to standardize the values in the array."
   ]
  },
  {
   "cell_type": "code",
   "execution_count": 34,
   "id": "18f42ebc",
   "metadata": {},
   "outputs": [
    {
     "name": "stdout",
     "output_type": "stream",
     "text": [
      "(50,)\n"
     ]
    }
   ],
   "source": [
    "# Lets find the mean at the column level\n",
    "data_mean = np.mean(data, axis=0)\n",
    "print(data_mean.shape)"
   ]
  },
  {
   "cell_type": "code",
   "execution_count": 60,
   "id": "2b0fb09b",
   "metadata": {},
   "outputs": [
    {
     "name": "stdout",
     "output_type": "stream",
     "text": [
      "(100, 50)\n"
     ]
    }
   ],
   "source": [
    "# Resizing to match shape of data\n",
    "data_mean_resized = np.repeat([data_mean], 100, axis=0)\n",
    "print(data_mean_resized.shape)"
   ]
  },
  {
   "cell_type": "code",
   "execution_count": 64,
   "id": "3b673634",
   "metadata": {},
   "outputs": [
    {
     "name": "stdout",
     "output_type": "stream",
     "text": [
      "[[0.49015008 0.5554031  0.53711165 ... 0.46238787 0.51383677 0.46729075]\n",
      " [0.49015008 0.5554031  0.53711165 ... 0.46238787 0.51383677 0.46729075]\n",
      " [0.49015008 0.5554031  0.53711165 ... 0.46238787 0.51383677 0.46729075]\n",
      " ...\n",
      " [0.49015008 0.5554031  0.53711165 ... 0.46238787 0.51383677 0.46729075]\n",
      " [0.49015008 0.5554031  0.53711165 ... 0.46238787 0.51383677 0.46729075]\n",
      " [0.49015008 0.5554031  0.53711165 ... 0.46238787 0.51383677 0.46729075]]\n"
     ]
    }
   ],
   "source": [
    "print(data_mean_resized)"
   ]
  },
  {
   "cell_type": "code",
   "execution_count": 59,
   "id": "fe2bee9e",
   "metadata": {},
   "outputs": [
    {
     "name": "stdout",
     "output_type": "stream",
     "text": [
      "(100, 50)\n"
     ]
    }
   ],
   "source": [
    "# Lets find the standard deviation at the column level and also resize it to match shape of data\n",
    "data_sd = np.std(data, axis=0)\n",
    "data_sd_resized = np.repeat([data_sd], [100], axis=0)\n",
    "print(data_sd_resized.shape)"
   ]
  },
  {
   "cell_type": "code",
   "execution_count": 65,
   "id": "4bfb5323",
   "metadata": {},
   "outputs": [
    {
     "name": "stdout",
     "output_type": "stream",
     "text": [
      "[[0.30228151 0.29218965 0.29706891 ... 0.29261454 0.30582524 0.29031159]\n",
      " [0.30228151 0.29218965 0.29706891 ... 0.29261454 0.30582524 0.29031159]\n",
      " [0.30228151 0.29218965 0.29706891 ... 0.29261454 0.30582524 0.29031159]\n",
      " ...\n",
      " [0.30228151 0.29218965 0.29706891 ... 0.29261454 0.30582524 0.29031159]\n",
      " [0.30228151 0.29218965 0.29706891 ... 0.29261454 0.30582524 0.29031159]\n",
      " [0.30228151 0.29218965 0.29706891 ... 0.29261454 0.30582524 0.29031159]]\n"
     ]
    }
   ],
   "source": [
    "print(data_sd_resized)"
   ]
  },
  {
   "cell_type": "code",
   "execution_count": 61,
   "id": "816af9e1",
   "metadata": {},
   "outputs": [],
   "source": [
    "# Now we can do element wise standardization in a memory optimized way\n",
    "data_std = (data-data_mean_resized)/data_sd_resized"
   ]
  },
  {
   "cell_type": "code",
   "execution_count": 93,
   "id": "8970902b",
   "metadata": {},
   "outputs": [
    {
     "data": {
      "text/plain": [
       "array([[ 0.07265085,  0.97612194, -0.87280627, ...,  1.03725975,\n",
       "        -0.67400819,  1.77369054],\n",
       "       [ 0.13282751, -0.07583848, -1.41370415, ...,  1.55982898,\n",
       "         0.7152582 , -0.44930469],\n",
       "       [-1.07560054,  1.40891904, -0.36582638, ...,  0.24611502,\n",
       "        -0.71942146, -1.15375612],\n",
       "       ...,\n",
       "       [ 0.74055961,  1.0286013 , -1.33368422, ..., -0.12515844,\n",
       "        -0.02545281,  0.68687411],\n",
       "       [ 1.26285138,  1.10163397,  0.56909544, ...,  1.62280299,\n",
       "         1.13176284, -1.21233663],\n",
       "       [-0.57266703,  1.31305505,  0.2451346 , ...,  0.23970996,\n",
       "        -0.79315452,  0.35282134]])"
      ]
     },
     "execution_count": 93,
     "metadata": {},
     "output_type": "execute_result"
    }
   ],
   "source": [
    "data_std"
   ]
  },
  {
   "cell_type": "markdown",
   "id": "05b85cf2",
   "metadata": {},
   "source": [
    "Below is the alternate way of doing the standardization which is much shorted but less intuitive"
   ]
  },
  {
   "cell_type": "code",
   "execution_count": 139,
   "id": "619efd45",
   "metadata": {},
   "outputs": [
    {
     "data": {
      "text/plain": [
       "array([[ 0.07265085,  0.97612194, -0.87280627, ...,  1.03725975,\n",
       "        -0.67400819,  1.77369054],\n",
       "       [ 0.13282751, -0.07583848, -1.41370415, ...,  1.55982898,\n",
       "         0.7152582 , -0.44930469],\n",
       "       [-1.07560054,  1.40891904, -0.36582638, ...,  0.24611502,\n",
       "        -0.71942146, -1.15375612],\n",
       "       ...,\n",
       "       [ 0.74055961,  1.0286013 , -1.33368422, ..., -0.12515844,\n",
       "        -0.02545281,  0.68687411],\n",
       "       [ 1.26285138,  1.10163397,  0.56909544, ...,  1.62280299,\n",
       "         1.13176284, -1.21233663],\n",
       "       [-0.57266703,  1.31305505,  0.2451346 , ...,  0.23970996,\n",
       "        -0.79315452,  0.35282134]])"
      ]
     },
     "execution_count": 139,
     "metadata": {},
     "output_type": "execute_result"
    }
   ],
   "source": [
    "data_std = (data-np.mean(data, axis=0))/np.std(data, axis=0)\n",
    "data_std"
   ]
  },
  {
   "cell_type": "markdown",
   "id": "8379cda6",
   "metadata": {},
   "source": [
    "Now we have our data standardized and now we can build a covariance matrix out of it\n"
   ]
  },
  {
   "cell_type": "code",
   "execution_count": 69,
   "id": "54508276",
   "metadata": {},
   "outputs": [],
   "source": [
    "data_cov = np.cov(data_std.T, bias=1)"
   ]
  },
  {
   "cell_type": "code",
   "execution_count": 95,
   "id": "c77337dc",
   "metadata": {},
   "outputs": [
    {
     "data": {
      "text/plain": [
       "(50, 50)"
      ]
     },
     "execution_count": 95,
     "metadata": {},
     "output_type": "execute_result"
    }
   ],
   "source": [
    "data_cov.shape"
   ]
  },
  {
   "cell_type": "code",
   "execution_count": 99,
   "id": "4887a4ac",
   "metadata": {},
   "outputs": [],
   "source": [
    "# Libraries for visualizing \n",
    "import seaborn as sns\n",
    "import matplotlib.pyplot as plt"
   ]
  },
  {
   "cell_type": "code",
   "execution_count": 101,
   "id": "03b406bc",
   "metadata": {},
   "outputs": [
    {
     "data": {
      "image/png": "[encoded data removed]",
      "text/plain": [
       "<Figure size 640x480 with 2 Axes>"
      ]
     },
     "metadata": {},
     "output_type": "display_data"
    }
   ],
   "source": [
    "sns.heatmap(data_cov)\n",
    "plt.title('Covariance Matrix', fontsize=16)\n",
    "plt.show()"
   ]
  },
  {
   "cell_type": "markdown",
   "id": "ab48bae6",
   "metadata": {},
   "source": [
    "Above heatmap shows how the 50 attributes are related to each other. It can be noted that "
   ]
  },
  {
   "cell_type": "code",
   "execution_count": 75,
   "id": "e4f6c39a",
   "metadata": {},
   "outputs": [],
   "source": [
    "# Import scipy library for calculating Eigen Value and Eigen vector\n",
    "import scipy.linalg as la"
   ]
  },
  {
   "cell_type": "code",
   "execution_count": 126,
   "id": "29cf565c",
   "metadata": {},
   "outputs": [],
   "source": [
    "eigen_val, eigen_vector = np.linalg.eig(data_cov)"
   ]
  },
  {
   "cell_type": "code",
   "execution_count": 127,
   "id": "943a5ee4",
   "metadata": {},
   "outputs": [
    {
     "name": "stdout",
     "output_type": "stream",
     "text": [
      "[2.57321592 2.51207592 2.41055482 2.27451245 2.24790466 2.13727365\n",
      " 1.95934447 1.89440497 1.79630578 1.75500746 1.67138582 1.56302573\n",
      " 1.48968664 1.46746728 1.39596928 1.30949302 1.23884813 1.15466717\n",
      " 1.10054821 1.08958353 0.99573017 0.10276506 0.94336622 0.12442631\n",
      " 0.16399897 0.18685453 0.19223145 0.20666016 0.22554344 0.26851\n",
      " 0.27572633 0.29759328 0.88844492 0.8608384  0.81638691 0.34594743\n",
      " 0.76741798 0.38848083 0.40559865 0.43166183 0.7241213  0.70117613\n",
      " 0.4905734  0.51409728 0.54552971 0.57711818 0.65283168 0.6468795\n",
      " 0.60122758 0.61698746]\n"
     ]
    }
   ],
   "source": [
    "print(eigen_val)"
   ]
  },
  {
   "cell_type": "code",
   "execution_count": 128,
   "id": "eba7ceab",
   "metadata": {},
   "outputs": [
    {
     "name": "stdout",
     "output_type": "stream",
     "text": [
      "[[ 0.15375857  0.21698311  0.04857497 ...  0.32494119 -0.09860001\n",
      "  -0.12776814]\n",
      " [ 0.22271735 -0.01330773  0.0957929  ...  0.04345032 -0.09981732\n",
      "   0.23804391]\n",
      " [-0.07342156  0.15049431 -0.00143794 ...  0.14314331 -0.02285543\n",
      "  -0.20711245]\n",
      " ...\n",
      " [ 0.10192884 -0.01235008  0.11747732 ... -0.15229844  0.0958852\n",
      "  -0.19854798]\n",
      " [-0.25605335 -0.21456407  0.18966793 ...  0.14237968 -0.10446685\n",
      "   0.00594475]\n",
      " [ 0.01895052 -0.12415262 -0.16278963 ... -0.23072219  0.23533521\n",
      "   0.11369991]]\n"
     ]
    }
   ],
   "source": [
    "print(eigen_vector)"
   ]
  },
  {
   "cell_type": "markdown",
   "id": "e6fc27aa",
   "metadata": {},
   "source": [
    "In order to find the most significant components of the eigen vector we need to sort the eigen values in ascending order"
   ]
  },
  {
   "cell_type": "code",
   "execution_count": 141,
   "id": "e61d3d69",
   "metadata": {},
   "outputs": [
    {
     "name": "stdout",
     "output_type": "stream",
     "text": [
      "[ 0  1  2  3  4  5  6  7  8  9 10 11 12 13 14 15 16 17 18 19 20 22 32 33\n",
      " 34 36 40 41 46 47 49 48 45 44 43 42 39 38 37 35 31 30 29 28 27 26 25 24\n",
      " 23 21]\n"
     ]
    }
   ],
   "source": [
    "idx = eigen_val.argsort()[::-1]\n",
    "print(idx)"
   ]
  },
  {
   "cell_type": "code",
   "execution_count": 143,
   "id": "346b92a7",
   "metadata": {},
   "outputs": [
    {
     "data": {
      "text/plain": [
       "array([2.57321592, 2.51207592, 2.41055482, 2.27451245, 2.24790466,\n",
       "       2.13727365, 1.95934447, 1.89440497, 1.79630578, 1.75500746,\n",
       "       1.67138582, 1.56302573, 1.48968664, 1.46746728, 1.39596928,\n",
       "       1.30949302, 1.23884813, 1.15466717, 1.10054821, 1.08958353,\n",
       "       0.99573017, 0.94336622, 0.88844492, 0.8608384 , 0.81638691,\n",
       "       0.76741798, 0.7241213 , 0.70117613, 0.65283168, 0.6468795 ,\n",
       "       0.61698746, 0.60122758, 0.57711818, 0.54552971, 0.51409728,\n",
       "       0.4905734 , 0.43166183, 0.40559865, 0.38848083, 0.34594743,\n",
       "       0.29759328, 0.27572633, 0.26851   , 0.22554344, 0.20666016,\n",
       "       0.19223145, 0.18685453, 0.16399897, 0.12442631, 0.10276506])"
      ]
     },
     "execution_count": 143,
     "metadata": {},
     "output_type": "execute_result"
    }
   ],
   "source": [
    "# Printing the eigen_val sorted in a descending order. This signifies the most significant components\n",
    "eigen_val[idx]"
   ]
  },
  {
   "cell_type": "code",
   "execution_count": 135,
   "id": "ccf05920",
   "metadata": {},
   "outputs": [
    {
     "data": {
      "text/plain": [
       "array([ 0,  1,  2,  3,  4,  5,  6,  7,  8,  9, 10, 11, 12, 13, 14, 15, 16,\n",
       "       17, 18, 19, 20, 22, 32, 33, 34, 36, 40, 41, 46, 47, 49, 48, 45, 44,\n",
       "       43, 42, 39, 38, 37, 35, 31, 30, 29, 28, 27, 26, 25, 24, 23, 21],\n",
       "      dtype=int64)"
      ]
     },
     "execution_count": 135,
     "metadata": {},
     "output_type": "execute_result"
    }
   ],
   "source": [
    "eigen_val.argsort()[::-1]"
   ]
  },
  {
   "cell_type": "code",
   "execution_count": 146,
   "id": "bb7deee3",
   "metadata": {},
   "outputs": [],
   "source": [
    "eigen_vector_sorted = eigen_vector[:, idx]"
   ]
  },
  {
   "cell_type": "markdown",
   "id": "f70209a0",
   "metadata": {},
   "source": [
    "Now we will also try to establish the optimal number of principal components that is sufficient to represent the complete dataset. Please note, as our dataset was built using random numbers its likely that there aren't any linear relationship between the variables and hence it won't be a straightforward cutoff number."
   ]
  },
  {
   "cell_type": "code",
   "execution_count": 160,
   "id": "8f64edc5",
   "metadata": {},
   "outputs": [
    {
     "name": "stdout",
     "output_type": "stream",
     "text": [
      "[5.14643184557513, 5.024151835792948, 4.82110964794113, 4.549024895253724, 4.495809316285285, 4.274547306304184, 3.9186889405975465, 3.7888099490939178, 3.5926115635303275, 3.5100149285037756, 3.342771641905577, 3.126051451694458, 2.9793732848247023, 2.934934558079834, 2.7919385527739338, 2.618986047399545, 2.477696266525774, 2.3093343309231247, 2.201096416337749, 2.1791670535787193, 1.9914603456105726, 1.8867324443621731, 1.77688983232492, 1.7216768012209112, 1.6327738118617752, 1.5348359547123722, 1.44824259857018, 1.402352257872892, 1.3056633517311786, 1.2937589905063336, 1.2339749223258918, 1.2024551574324456, 1.1542363551980812, 1.0910594223379537, 1.0281945693048138, 0.9811468045302709, 0.8633236679566176, 0.8111973019107547, 0.7769616585499891, 0.6918948505077636, 0.5951865554276838, 0.5514526648567664, 0.537020005263457, 0.4510868757791539, 0.4133203248953647, 0.3844628963259362, 0.373709064325691, 0.32799794991021786, 0.24885261010581103, 0.20553012136063634]\n"
     ]
    }
   ],
   "source": [
    "variance_explained = []\n",
    "for i in eigen_val[idx]:\n",
    "    variance_explained.append((i/sum(eigen_val))*100)\n",
    "print(variance_explained)"
   ]
  },
  {
   "cell_type": "code",
   "execution_count": 163,
   "id": "543863a7",
   "metadata": {},
   "outputs": [
    {
     "data": {
      "image/png": "[encoded data removed]",
      "text/plain": [
       "<Figure size 640x480 with 1 Axes>"
      ]
     },
     "metadata": {},
     "output_type": "display_data"
    }
   ],
   "source": [
    "plt.plot(range(1, len(variance_explained)+1), variance_explained, marker='o')\n",
    "plt.xlabel('Principal Component')\n",
    "plt.ylabel('Proportion of Variance Explained')\n",
    "plt.title('Scree Plot')\n",
    "plt.show()"
   ]
  },
  {
   "cell_type": "markdown",
   "id": "afbb9a9d",
   "metadata": {},
   "source": [
    "From above plot we can see that there's a gradual decrease in the proportion of variance explaind. Though its not a sudden drop but for our convenience we will consider a cut-off at 20"
   ]
  },
  {
   "cell_type": "code",
   "execution_count": 164,
   "id": "80f58de8",
   "metadata": {},
   "outputs": [],
   "source": [
    "# Calculating n principal components\n",
    "n_components = 20\n",
    "data_pca = np.matmul(np.array(data_std),eigen_vector_sorted)"
   ]
  },
  {
   "cell_type": "code",
   "execution_count": 170,
   "id": "2c829b34",
   "metadata": {},
   "outputs": [
    {
     "data": {
      "text/plain": [
       "array([[ 0.32407453, -2.44098505, -0.19800089, ..., -0.11523612,\n",
       "         0.02970394,  0.25998121],\n",
       "       [-0.75754778,  0.03870967, -0.7679303 , ...,  0.46232082,\n",
       "         0.41424602, -1.74598092],\n",
       "       [ 2.17211264, -0.3944214 , -1.0736974 , ...,  0.6055898 ,\n",
       "        -1.11353559, -2.14553942],\n",
       "       ...,\n",
       "       [ 2.07300063, -0.85509746,  2.30969863, ...,  1.18646649,\n",
       "        -0.82453643, -0.57316562],\n",
       "       [-0.8702873 ,  0.62359906,  3.04757927, ..., -0.08706058,\n",
       "         1.52399153, -0.12180971],\n",
       "       [ 2.43882699,  0.82850772, -1.90476203, ...,  0.24382762,\n",
       "         0.58879842, -0.05577699]])"
      ]
     },
     "execution_count": 170,
     "metadata": {},
     "output_type": "execute_result"
    }
   ],
   "source": [
    "data_pca[:, :n_components]"
   ]
  },
  {
   "cell_type": "code",
   "execution_count": 171,
   "id": "b7d3deff",
   "metadata": {},
   "outputs": [
    {
     "data": {
      "text/plain": [
       "array([[0.51211109, 0.84061583, 0.27782804, ..., 0.76590516, 0.30770805,\n",
       "        0.98221368],\n",
       "       [0.53030138, 0.53324388, 0.11714409, ..., 0.91881651, 0.73258078,\n",
       "        0.33685239],\n",
       "       [0.16501592, 0.96707466, 0.428436  , ..., 0.53440471, 0.29381953,\n",
       "        0.13234198],\n",
       "       ...,\n",
       "       [0.71400756, 0.85594975, 0.14091552, ..., 0.42576469, 0.50605266,\n",
       "        0.66669827],\n",
       "       [0.87188671, 0.87728914, 0.70617221, ..., 0.93724362, 0.85995841,\n",
       "        0.11533538],\n",
       "       [0.31704343, 0.93906419, 0.60993351, ..., 0.53253049, 0.2712701 ,\n",
       "        0.56971888]])"
      ]
     },
     "execution_count": 171,
     "metadata": {},
     "output_type": "execute_result"
    }
   ],
   "source": [
    "data"
   ]
  },
  {
   "cell_type": "markdown",
   "id": "eca67bd1",
   "metadata": {},
   "source": [
    "However, PCA has some drawbacks to keep in mind. Firstly, it assumes that the data is linearly separable and that the principal components capture the most important aspects of the data. In some cases, this may not be true, and other techniques may be more appropriate. Secondly, PCA may not be suitable for high-dimensional data with a small number of samples, as it can lead to overfitting. Additionally, the interpretation of the principal components can be difficult, especially when the number of components is large. Finally, PCA is a data-driven method that does not incorporate prior knowledge or assumptions about the underlying distribution of the data."
   ]
  },
  {
   "cell_type": "code",
   "execution_count": null,
   "id": "bdb1463d",
   "metadata": {},
   "outputs": [],
   "source": []
  }
 ],
 "metadata": {
  "kernelspec": {
   "display_name": "Python 3 (ipykernel)",
   "language": "python",
   "name": "python3"
  },
  "language_info": {
   "codemirror_mode": {
    "name": "ipython",
    "version": 3
   },
   "file_extension": ".py",
   "mimetype": "text/x-python",
   "name": "python",
   "nbconvert_exporter": "python",
   "pygments_lexer": "ipython3",
   "version": "3.11.2"
  }
 },
 "nbformat": 4,
 "nbformat_minor": 5
}
